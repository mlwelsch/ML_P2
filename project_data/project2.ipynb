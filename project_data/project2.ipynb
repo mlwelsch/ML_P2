{
 "cells": [
  {
   "cell_type": "markdown",
   "metadata": {},
   "source": [
    "# Project 2 #\n",
    "\n",
    "Max Welsch 1265942\n",
    "Hanshi Tang 1266337\n"
   ]
  },
  {
   "cell_type": "code",
   "execution_count": 2,
   "metadata": {},
   "outputs": [],
   "source": [
    "import pandas as pd\n",
    "import matplotlib.pyplot as plt\n",
    "import numpy as np\n"
   ]
  },
  {
   "cell_type": "code",
   "execution_count": 3,
   "metadata": {},
   "outputs": [],
   "source": [
    "# read the csvs\n",
    "test_dataset = pd.read_csv('test_dataset.csv')\n",
    "train_dataset = pd.read_csv('train_dataset.csv')\n",
    "\n",
    "train_X = train_dataset.drop(columns=['imdb_score_binned'])\n",
    "train_y = train_dataset['imdb_score_binned']"
   ]
  },
  {
   "cell_type": "code",
   "execution_count": 4,
   "metadata": {},
   "outputs": [
    {
     "data": {
      "text/plain": [
       "(3004, 27)"
      ]
     },
     "execution_count": 4,
     "metadata": {},
     "output_type": "execute_result"
    }
   ],
   "source": [
    "train_dataset.head()\n",
    "train_dataset.shape"
   ]
  },
  {
   "cell_type": "markdown",
   "metadata": {},
   "source": [
    "Visualise the data - here we can see actually a zero R model will perform okay lol."
   ]
  },
  {
   "cell_type": "code",
   "execution_count": 5,
   "metadata": {},
   "outputs": [
    {
     "data": {
      "text/plain": [
       "(array([  24.,    0.,  235.,    0.,    0., 1839.,    0.,  777.,    0.,\n",
       "         129.]),\n",
       " array([0. , 0.4, 0.8, 1.2, 1.6, 2. , 2.4, 2.8, 3.2, 3.6, 4. ]),\n",
       " <BarContainer object of 10 artists>)"
      ]
     },
     "execution_count": 5,
     "metadata": {},
     "output_type": "execute_result"
    },
    {
     "data": {
      "image/png": "[encoded data removed]",
      "text/plain": [
       "<Figure size 640x480 with 1 Axes>"
      ]
     },
     "metadata": {},
     "output_type": "display_data"
    }
   ],
   "source": [
    "plt.hist(train_dataset['imdb_score_binned'])"
   ]
  },
  {
   "cell_type": "markdown",
   "metadata": {},
   "source": [
    "# MODEL 1  ZERO R #\n",
    "This will just be a zero R model. Based on the histogram it SHOULD perform okay"
   ]
  },
  {
   "cell_type": "code",
   "execution_count": 6,
   "metadata": {},
   "outputs": [
    {
     "name": "stdout",
     "output_type": "stream",
     "text": [
      "Scores for Zero R: [0.61231281 0.61231281 0.61231281 0.61064892 0.61333333]\n",
      "Average score: 0.6121841375485302\n"
     ]
    }
   ],
   "source": [
    "from sklearn.dummy import DummyClassifier\n",
    "from sklearn.metrics import accuracy_score\n",
    "from sklearn.model_selection import cross_val_score\n",
    "\n",
    "zero_r_classifier = DummyClassifier(strategy='most_frequent')\n",
    "\n",
    "scores = cross_val_score(zero_r_classifier, train_X, train_y, cv=5)\n",
    "print(f\"Scores for Zero R: {scores}\")\n",
    "print(f\"Average score: {np.mean(scores)}\")"
   ]
  },
  {
   "cell_type": "markdown",
   "metadata": {},
   "source": [
    "Now fit it to the training data"
   ]
  },
  {
   "cell_type": "code",
   "execution_count": 7,
   "metadata": {},
   "outputs": [
    {
     "data": {
      "text/html": [
       "<style>#sk-container-id-1 {color: black;}#sk-container-id-1 pre{padding: 0;}#sk-container-id-1 div.sk-toggleable {background-color: white;}#sk-container-id-1 label.sk-toggleable__label {cursor: pointer;display: block;width: 100%;margin-bottom: 0;padding: 0.3em;box-sizing: border-box;text-align: center;}#sk-container-id-1 label.sk-toggleable__label-arrow:before {content: \"▸\";float: left;margin-right: 0.25em;color: #696969;}#sk-container-id-1 label.sk-toggleable__label-arrow:hover:before {color: black;}#sk-container-id-1 div.sk-estimator:hover label.sk-toggleable__label-arrow:before {color: black;}#sk-container-id-1 div.sk-toggleable__content {max-height: 0;max-width: 0;overflow: hidden;text-align: left;background-color: #f0f8ff;}#sk-container-id-1 div.sk-toggleable__content pre {margin: 0.2em;color: black;border-radius: 0.25em;background-color: #f0f8ff;}#sk-container-id-1 input.sk-toggleable__control:checked~div.sk-toggleable__content {max-height: 200px;max-width: 100%;overflow: auto;}#sk-container-id-1 input.sk-toggleable__control:checked~label.sk-toggleable__label-arrow:before {content: \"▾\";}#sk-container-id-1 div.sk-estimator input.sk-toggleable__control:checked~label.sk-toggleable__label {background-color: #d4ebff;}#sk-container-id-1 div.sk-label input.sk-toggleable__control:checked~label.sk-toggleable__label {background-color: #d4ebff;}#sk-container-id-1 input.sk-hidden--visually {border: 0;clip: rect(1px 1px 1px 1px);clip: rect(1px, 1px, 1px, 1px);height: 1px;margin: -1px;overflow: hidden;padding: 0;position: absolute;width: 1px;}#sk-container-id-1 div.sk-estimator {font-family: monospace;background-color: #f0f8ff;border: 1px dotted black;border-radius: 0.25em;box-sizing: border-box;margin-bottom: 0.5em;}#sk-container-id-1 div.sk-estimator:hover {background-color: #d4ebff;}#sk-container-id-1 div.sk-parallel-item::after {content: \"\";width: 100%;border-bottom: 1px solid gray;flex-grow: 1;}#sk-container-id-1 div.sk-label:hover label.sk-toggleable__label {background-color: #d4ebff;}#sk-container-id-1 div.sk-serial::before {content: \"\";position: absolute;border-left: 1px solid gray;box-sizing: border-box;top: 0;bottom: 0;left: 50%;z-index: 0;}#sk-container-id-1 div.sk-serial {display: flex;flex-direction: column;align-items: center;background-color: white;padding-right: 0.2em;padding-left: 0.2em;position: relative;}#sk-container-id-1 div.sk-item {position: relative;z-index: 1;}#sk-container-id-1 div.sk-parallel {display: flex;align-items: stretch;justify-content: center;background-color: white;position: relative;}#sk-container-id-1 div.sk-item::before, #sk-container-id-1 div.sk-parallel-item::before {content: \"\";position: absolute;border-left: 1px solid gray;box-sizing: border-box;top: 0;bottom: 0;left: 50%;z-index: -1;}#sk-container-id-1 div.sk-parallel-item {display: flex;flex-direction: column;z-index: 1;position: relative;background-color: white;}#sk-container-id-1 div.sk-parallel-item:first-child::after {align-self: flex-end;width: 50%;}#sk-container-id-1 div.sk-parallel-item:last-child::after {align-self: flex-start;width: 50%;}#sk-container-id-1 div.sk-parallel-item:only-child::after {width: 0;}#sk-container-id-1 div.sk-dashed-wrapped {border: 1px dashed gray;margin: 0 0.4em 0.5em 0.4em;box-sizing: border-box;padding-bottom: 0.4em;background-color: white;}#sk-container-id-1 div.sk-label label {font-family: monospace;font-weight: bold;display: inline-block;line-height: 1.2em;}#sk-container-id-1 div.sk-label-container {text-align: center;}#sk-container-id-1 div.sk-container {/* jupyter's `normalize.less` sets `[hidden] { display: none; }` but bootstrap.min.css set `[hidden] { display: none !important; }` so we also need the `!important` here to be able to override the default hidden behavior on the sphinx rendered scikit-learn.org. See: https://github.com/scikit-learn/scikit-learn/issues/21755 */display: inline-block !important;position: relative;}#sk-container-id-1 div.sk-text-repr-fallback {display: none;}</style><div id=\"sk-container-id-1\" class=\"sk-top-container\"><div class=\"sk-text-repr-fallback\"><pre>DummyClassifier(strategy=&#x27;most_frequent&#x27;)</pre><b>In a Jupyter environment, please rerun this cell to show the HTML representation or trust the notebook. <br />On GitHub, the HTML representation is unable to render, please try loading this page with nbviewer.org.</b></div><div class=\"sk-container\" hidden><div class=\"sk-item\"><div class=\"sk-estimator sk-toggleable\"><input class=\"sk-toggleable__control sk-hidden--visually\" id=\"sk-estimator-id-1\" type=\"checkbox\" checked><label for=\"sk-estimator-id-1\" class=\"sk-toggleable__label sk-toggleable__label-arrow\">DummyClassifier</label><div class=\"sk-toggleable__content\"><pre>DummyClassifier(strategy=&#x27;most_frequent&#x27;)</pre></div></div></div></div></div>"
      ],
      "text/plain": [
       "DummyClassifier(strategy='most_frequent')"
      ]
     },
     "execution_count": 7,
     "metadata": {},
     "output_type": "execute_result"
    }
   ],
   "source": [
    "zero_r_classifier.fit(train_X, train_y)"
   ]
  },
  {
   "cell_type": "code",
   "execution_count": 8,
   "metadata": {},
   "outputs": [],
   "source": [
    "predictions = zero_r_classifier.predict(test_dataset)"
   ]
  },
  {
   "cell_type": "code",
   "execution_count": 22,
   "metadata": {},
   "outputs": [],
   "source": [
    "zero_r_predictions = pd.DataFrame(predictions, columns=['imdb_score_binned'])\n",
    "zero_r_predictions.index = pd.RangeIndex(start=1, stop=len(predictions)+ 1, step=1)\n",
    "zero_r_predictions.to_csv('zero_r_predictions.csv', index=True, index_label='id')"
   ]
  },
  {
   "cell_type": "code",
   "execution_count": 23,
   "metadata": {},
   "outputs": [
    {
     "data": {
      "text/html": [
       "<div>\n",
       "<style scoped>\n",
       "    .dataframe tbody tr th:only-of-type {\n",
       "        vertical-align: middle;\n",
       "    }\n",
       "\n",
       "    .dataframe tbody tr th {\n",
       "        vertical-align: top;\n",
       "    }\n",
       "\n",
       "    .dataframe thead th {\n",
       "        text-align: right;\n",
       "    }\n",
       "</style>\n",
       "<table border=\"1\" class=\"dataframe\">\n",
       "  <thead>\n",
       "    <tr style=\"text-align: right;\">\n",
       "      <th></th>\n",
       "      <th>imdb_score_binned</th>\n",
       "    </tr>\n",
       "  </thead>\n",
       "  <tbody>\n",
       "    <tr>\n",
       "      <th>1</th>\n",
       "      <td>2</td>\n",
       "    </tr>\n",
       "    <tr>\n",
       "      <th>2</th>\n",
       "      <td>2</td>\n",
       "    </tr>\n",
       "    <tr>\n",
       "      <th>3</th>\n",
       "      <td>2</td>\n",
       "    </tr>\n",
       "    <tr>\n",
       "      <th>4</th>\n",
       "      <td>2</td>\n",
       "    </tr>\n",
       "    <tr>\n",
       "      <th>5</th>\n",
       "      <td>2</td>\n",
       "    </tr>\n",
       "    <tr>\n",
       "      <th>...</th>\n",
       "      <td>...</td>\n",
       "    </tr>\n",
       "    <tr>\n",
       "      <th>748</th>\n",
       "      <td>2</td>\n",
       "    </tr>\n",
       "    <tr>\n",
       "      <th>749</th>\n",
       "      <td>2</td>\n",
       "    </tr>\n",
       "    <tr>\n",
       "      <th>750</th>\n",
       "      <td>2</td>\n",
       "    </tr>\n",
       "    <tr>\n",
       "      <th>751</th>\n",
       "      <td>2</td>\n",
       "    </tr>\n",
       "    <tr>\n",
       "      <th>752</th>\n",
       "      <td>2</td>\n",
       "    </tr>\n",
       "  </tbody>\n",
       "</table>\n",
       "<p>752 rows × 1 columns</p>\n",
       "</div>"
      ],
      "text/plain": [
       "     imdb_score_binned\n",
       "1                    2\n",
       "2                    2\n",
       "3                    2\n",
       "4                    2\n",
       "5                    2\n",
       "..                 ...\n",
       "748                  2\n",
       "749                  2\n",
       "750                  2\n",
       "751                  2\n",
       "752                  2\n",
       "\n",
       "[752 rows x 1 columns]"
      ]
     },
     "execution_count": 23,
     "metadata": {},
     "output_type": "execute_result"
    }
   ],
   "source": [
    "zero_r_predictions"
   ]
  },
  {
   "cell_type": "markdown",
   "metadata": {},
   "source": [
    "# TO IMPLEMENT: #\n",
    "\n",
    "A random forest method\n",
    "\n",
    "A logistic regression\n",
    "\n",
    "Naive Bayes\n",
    "\n",
    "SVM (with PCA dimensionality reduction)\n",
    "\n"
   ]
  },
  {
   "cell_type": "code",
   "execution_count": 24,
   "metadata": {},
   "outputs": [
    {
     "data": {
      "text/html": [
       "<div>\n",
       "<style scoped>\n",
       "    .dataframe tbody tr th:only-of-type {\n",
       "        vertical-align: middle;\n",
       "    }\n",
       "\n",
       "    .dataframe tbody tr th {\n",
       "        vertical-align: top;\n",
       "    }\n",
       "\n",
       "    .dataframe thead th {\n",
       "        text-align: right;\n",
       "    }\n",
       "</style>\n",
       "<table border=\"1\" class=\"dataframe\">\n",
       "  <thead>\n",
       "    <tr style=\"text-align: right;\">\n",
       "      <th></th>\n",
       "      <th>id</th>\n",
       "      <th>director_name</th>\n",
       "      <th>num_critic_for_reviews</th>\n",
       "      <th>duration</th>\n",
       "      <th>director_facebook_likes</th>\n",
       "      <th>actor_3_facebook_likes</th>\n",
       "      <th>actor_2_name</th>\n",
       "      <th>actor_1_facebook_likes</th>\n",
       "      <th>gross</th>\n",
       "      <th>genres</th>\n",
       "      <th>...</th>\n",
       "      <th>num_user_for_reviews</th>\n",
       "      <th>language</th>\n",
       "      <th>country</th>\n",
       "      <th>content_rating</th>\n",
       "      <th>title_year</th>\n",
       "      <th>actor_2_facebook_likes</th>\n",
       "      <th>movie_facebook_likes</th>\n",
       "      <th>title_embedding</th>\n",
       "      <th>average_degree_centrality</th>\n",
       "      <th>imdb_score_binned</th>\n",
       "    </tr>\n",
       "  </thead>\n",
       "  <tbody>\n",
       "    <tr>\n",
       "      <th>0</th>\n",
       "      <td>1</td>\n",
       "      <td>Roger Allers</td>\n",
       "      <td>186</td>\n",
       "      <td>73</td>\n",
       "      <td>28</td>\n",
       "      <td>847</td>\n",
       "      <td>Nathan Lane</td>\n",
       "      <td>2000</td>\n",
       "      <td>422783777</td>\n",
       "      <td>Adventure|Animation|Drama|Family|Musical</td>\n",
       "      <td>...</td>\n",
       "      <td>656</td>\n",
       "      <td>English</td>\n",
       "      <td>USA</td>\n",
       "      <td>G</td>\n",
       "      <td>1994</td>\n",
       "      <td>886</td>\n",
       "      <td>17000</td>\n",
       "      <td>[-4.1984697e-03  4.2941985e-03 -1.1961063e-03 ...</td>\n",
       "      <td>0.001576</td>\n",
       "      <td>4</td>\n",
       "    </tr>\n",
       "    <tr>\n",
       "      <th>1</th>\n",
       "      <td>2</td>\n",
       "      <td>George A. Romero</td>\n",
       "      <td>252</td>\n",
       "      <td>97</td>\n",
       "      <td>0</td>\n",
       "      <td>233</td>\n",
       "      <td>Shawn Roberts</td>\n",
       "      <td>654</td>\n",
       "      <td>20433940</td>\n",
       "      <td>Horror</td>\n",
       "      <td>...</td>\n",
       "      <td>662</td>\n",
       "      <td>English</td>\n",
       "      <td>Canada</td>\n",
       "      <td>R</td>\n",
       "      <td>2005</td>\n",
       "      <td>529</td>\n",
       "      <td>0</td>\n",
       "      <td>[-4.7586653e-03  2.6511205e-03 -3.7954253e-04 ...</td>\n",
       "      <td>0.000675</td>\n",
       "      <td>2</td>\n",
       "    </tr>\n",
       "    <tr>\n",
       "      <th>2</th>\n",
       "      <td>3</td>\n",
       "      <td>David Gordon Green</td>\n",
       "      <td>232</td>\n",
       "      <td>117</td>\n",
       "      <td>234</td>\n",
       "      <td>221</td>\n",
       "      <td>Tye Sheridan</td>\n",
       "      <td>12000</td>\n",
       "      <td>371897</td>\n",
       "      <td>Drama</td>\n",
       "      <td>...</td>\n",
       "      <td>118</td>\n",
       "      <td>English</td>\n",
       "      <td>USA</td>\n",
       "      <td>R</td>\n",
       "      <td>2013</td>\n",
       "      <td>1000</td>\n",
       "      <td>11000</td>\n",
       "      <td>[ 2.78131524e-03 -3.15494463e-03 -6.38332494e-...</td>\n",
       "      <td>0.003002</td>\n",
       "      <td>2</td>\n",
       "    </tr>\n",
       "    <tr>\n",
       "      <th>3</th>\n",
       "      <td>4</td>\n",
       "      <td>John Carpenter</td>\n",
       "      <td>297</td>\n",
       "      <td>109</td>\n",
       "      <td>0</td>\n",
       "      <td>145</td>\n",
       "      <td>Richard Masur</td>\n",
       "      <td>957</td>\n",
       "      <td>13782838</td>\n",
       "      <td>Horror|Mystery|Sci-Fi</td>\n",
       "      <td>...</td>\n",
       "      <td>911</td>\n",
       "      <td>English</td>\n",
       "      <td>USA</td>\n",
       "      <td>R</td>\n",
       "      <td>1982</td>\n",
       "      <td>163</td>\n",
       "      <td>23000</td>\n",
       "      <td>[-5.32674184e-03  3.60742491e-03  7.91795843e-...</td>\n",
       "      <td>0.001726</td>\n",
       "      <td>4</td>\n",
       "    </tr>\n",
       "    <tr>\n",
       "      <th>4</th>\n",
       "      <td>5</td>\n",
       "      <td>Peter Jackson</td>\n",
       "      <td>297</td>\n",
       "      <td>171</td>\n",
       "      <td>0</td>\n",
       "      <td>857</td>\n",
       "      <td>Orlando Bloom</td>\n",
       "      <td>16000</td>\n",
       "      <td>313837577</td>\n",
       "      <td>Action|Adventure|Drama|Fantasy</td>\n",
       "      <td>...</td>\n",
       "      <td>5060</td>\n",
       "      <td>English</td>\n",
       "      <td>New Zealand</td>\n",
       "      <td>PG-13</td>\n",
       "      <td>2001</td>\n",
       "      <td>5000</td>\n",
       "      <td>21000</td>\n",
       "      <td>[-4.2586620e-03  3.6257182e-03 -1.5326265e-03 ...</td>\n",
       "      <td>0.001876</td>\n",
       "      <td>4</td>\n",
       "    </tr>\n",
       "  </tbody>\n",
       "</table>\n",
       "<p>5 rows × 27 columns</p>\n",
       "</div>"
      ],
      "text/plain": [
       "   id       director_name  num_critic_for_reviews  duration  \\\n",
       "0   1        Roger Allers                     186        73   \n",
       "1   2    George A. Romero                     252        97   \n",
       "2   3  David Gordon Green                     232       117   \n",
       "3   4      John Carpenter                     297       109   \n",
       "4   5       Peter Jackson                     297       171   \n",
       "\n",
       "   director_facebook_likes  actor_3_facebook_likes   actor_2_name  \\\n",
       "0                       28                     847    Nathan Lane   \n",
       "1                        0                     233  Shawn Roberts   \n",
       "2                      234                     221   Tye Sheridan   \n",
       "3                        0                     145  Richard Masur   \n",
       "4                        0                     857  Orlando Bloom   \n",
       "\n",
       "   actor_1_facebook_likes      gross  \\\n",
       "0                    2000  422783777   \n",
       "1                     654   20433940   \n",
       "2                   12000     371897   \n",
       "3                     957   13782838   \n",
       "4                   16000  313837577   \n",
       "\n",
       "                                     genres  ... num_user_for_reviews  \\\n",
       "0  Adventure|Animation|Drama|Family|Musical  ...                  656   \n",
       "1                                    Horror  ...                  662   \n",
       "2                                     Drama  ...                  118   \n",
       "3                     Horror|Mystery|Sci-Fi  ...                  911   \n",
       "4            Action|Adventure|Drama|Fantasy  ...                 5060   \n",
       "\n",
       "  language      country  content_rating title_year  actor_2_facebook_likes  \\\n",
       "0  English          USA               G       1994                     886   \n",
       "1  English       Canada               R       2005                     529   \n",
       "2  English          USA               R       2013                    1000   \n",
       "3  English          USA               R       1982                     163   \n",
       "4  English  New Zealand           PG-13       2001                    5000   \n",
       "\n",
       "  movie_facebook_likes                                    title_embedding  \\\n",
       "0                17000  [-4.1984697e-03  4.2941985e-03 -1.1961063e-03 ...   \n",
       "1                    0  [-4.7586653e-03  2.6511205e-03 -3.7954253e-04 ...   \n",
       "2                11000  [ 2.78131524e-03 -3.15494463e-03 -6.38332494e-...   \n",
       "3                23000  [-5.32674184e-03  3.60742491e-03  7.91795843e-...   \n",
       "4                21000  [-4.2586620e-03  3.6257182e-03 -1.5326265e-03 ...   \n",
       "\n",
       "  average_degree_centrality imdb_score_binned  \n",
       "0                  0.001576                 4  \n",
       "1                  0.000675                 2  \n",
       "2                  0.003002                 2  \n",
       "3                  0.001726                 4  \n",
       "4                  0.001876                 4  \n",
       "\n",
       "[5 rows x 27 columns]"
      ]
     },
     "execution_count": 24,
     "metadata": {},
     "output_type": "execute_result"
    }
   ],
   "source": [
    "train_dataset.head()"
   ]
  },
  {
   "cell_type": "code",
   "execution_count": null,
   "metadata": {},
   "outputs": [],
   "source": []
  }
 ],
 "metadata": {
  "kernelspec": {
   "display_name": "base",
   "language": "python",
   "name": "python3"
  },
  "language_info": {
   "codemirror_mode": {
    "name": "ipython",
    "version": 3
   },
   "file_extension": ".py",
   "mimetype": "text/x-python",
   "name": "python",
   "nbconvert_exporter": "python",
   "pygments_lexer": "ipython3",
   "version": "3.11.4"
  }
 },
 "nbformat": 4,
 "nbformat_minor": 2
}
